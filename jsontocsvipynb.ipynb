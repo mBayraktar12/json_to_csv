{
  "nbformat": 4,
  "nbformat_minor": 0,
  "metadata": {
    "colab": {
      "provenance": []
    },
    "kernelspec": {
      "name": "python3",
      "display_name": "Python 3"
    },
    "language_info": {
      "name": "python"
    }
  },
  "cells": [
    {
      "cell_type": "code",
      "execution_count": null,
      "metadata": {
        "colab": {
          "base_uri": "https://localhost:8080/"
        },
        "id": "MruQgnmfSPw6",
        "outputId": "81ed9096-cc07-4cbd-b1ef-42b4228b70d2"
      },
      "outputs": [
        {
          "output_type": "stream",
          "name": "stdout",
          "text": [
            "Mounted at /content/drive\n"
          ]
        }
      ],
      "source": [
        "from google.colab import drive\n",
        "drive.mount(\"/content/drive\")"
      ]
    },
    {
      "cell_type": "code",
      "source": [
        "import json\n",
        "import csv\n",
        "import pandas as pd"
      ],
      "metadata": {
        "id": "qKCRtI7xSQf7"
      },
      "execution_count": null,
      "outputs": []
    },
    {
      "cell_type": "code",
      "source": [
        "with open(\"/content/drive/MyDrive/Colab Notebooks/DATA_JSON/data.json\",\"r\") as file:\n",
        "  data =json.load(file)"
      ],
      "metadata": {
        "id": "qf9ejgDSSgZJ"
      },
      "execution_count": null,
      "outputs": []
    },
    {
      "cell_type": "code",
      "source": [
        "type(data)"
      ],
      "metadata": {
        "colab": {
          "base_uri": "https://localhost:8080/"
        },
        "id": "ZnbNzLTNSmKe",
        "outputId": "4bdf6dac-d234-42f0-d173-8b69ba630ee9"
      },
      "execution_count": null,
      "outputs": [
        {
          "output_type": "execute_result",
          "data": {
            "text/plain": [
              "list"
            ]
          },
          "metadata": {},
          "execution_count": 124
        }
      ]
    },
    {
      "cell_type": "code",
      "source": [
        "data = pd.DataFrame(data)"
      ],
      "metadata": {
        "id": "rXLiV857SwMr"
      },
      "execution_count": null,
      "outputs": []
    },
    {
      "cell_type": "code",
      "source": [
        "len(data)"
      ],
      "metadata": {
        "colab": {
          "base_uri": "https://localhost:8080/"
        },
        "id": "S5xhUoI_TeF9",
        "outputId": "2dc05200-79db-42ec-9e38-fc579c801a29"
      },
      "execution_count": null,
      "outputs": [
        {
          "output_type": "execute_result",
          "data": {
            "text/plain": [
              "16"
            ]
          },
          "metadata": {},
          "execution_count": 126
        }
      ]
    },
    {
      "cell_type": "code",
      "source": [
        "data.collectedDataWithIndoorLevelDataModel[0][\"wifiMeasurementList\"][0][\"ssid\"]"
      ],
      "metadata": {
        "colab": {
          "base_uri": "https://localhost:8080/",
          "height": 36
        },
        "id": "CAkrM5aNTlbM",
        "outputId": "8d844492-c50a-45bf-8fd7-29209004816d"
      },
      "execution_count": null,
      "outputs": [
        {
          "output_type": "execute_result",
          "data": {
            "text/plain": [
              "'70:3a:0e:df:18:60'"
            ],
            "application/vnd.google.colaboratory.intrinsic+json": {
              "type": "string"
            }
          },
          "metadata": {},
          "execution_count": 127
        }
      ]
    },
    {
      "cell_type": "code",
      "source": [
        "ssid = []\n",
        "for i in range(len(data)):\n",
        "  for j in range(len(data.collectedDataWithIndoorLevelDataModel[i][\"wifiMeasurementList\"])):\n",
        "    ssid.append(data.collectedDataWithIndoorLevelDataModel[i][\"wifiMeasurementList\"][j][\"ssid\"])"
      ],
      "metadata": {
        "id": "kyqxB8BMSyAG"
      },
      "execution_count": null,
      "outputs": []
    },
    {
      "cell_type": "code",
      "source": [
        "type(ssid)"
      ],
      "metadata": {
        "colab": {
          "base_uri": "https://localhost:8080/"
        },
        "id": "YaJwgWv7TD3G",
        "outputId": "2beab4a8-7e29-483b-f4d6-44a7766485de"
      },
      "execution_count": null,
      "outputs": [
        {
          "output_type": "execute_result",
          "data": {
            "text/plain": [
              "list"
            ]
          },
          "metadata": {},
          "execution_count": 129
        }
      ]
    },
    {
      "cell_type": "code",
      "source": [
        "len(ssid)"
      ],
      "metadata": {
        "colab": {
          "base_uri": "https://localhost:8080/"
        },
        "id": "mvipn1MAVi8F",
        "outputId": "e420b9b8-6817-44c0-f821-3e5832a0406d"
      },
      "execution_count": null,
      "outputs": [
        {
          "output_type": "execute_result",
          "data": {
            "text/plain": [
              "11196"
            ]
          },
          "metadata": {},
          "execution_count": 130
        }
      ]
    },
    {
      "cell_type": "code",
      "source": [
        "unique_ssid = set(ssid)\n",
        "unique_ssid\n",
        "len(unique_ssid)"
      ],
      "metadata": {
        "colab": {
          "base_uri": "https://localhost:8080/"
        },
        "id": "Seqe6T-wU4Jp",
        "outputId": "41090f0f-fb7f-4bf2-8ecf-b43e4fbc5ca1"
      },
      "execution_count": null,
      "outputs": [
        {
          "output_type": "execute_result",
          "data": {
            "text/plain": [
              "71"
            ]
          },
          "metadata": {},
          "execution_count": 131
        }
      ]
    },
    {
      "cell_type": "code",
      "source": [
        "unique_ssid"
      ],
      "metadata": {
        "colab": {
          "base_uri": "https://localhost:8080/"
        },
        "id": "Vraqo3SlVhLh",
        "outputId": "55c3e385-01f0-4ac8-eb94-e9d1489e109a"
      },
      "execution_count": null,
      "outputs": [
        {
          "output_type": "execute_result",
          "data": {
            "text/plain": [
              "{'00:02:6f:af:6c:11',\n",
              " '00:30:4f:9c:79:18',\n",
              " '00:30:f1:fe:fa:7b',\n",
              " '02:17:c8:83:04:1a',\n",
              " '04:bd:88:80:69:20',\n",
              " '04:bd:88:83:b8:a0',\n",
              " '04:bd:88:83:b8:b0',\n",
              " '04:bd:88:83:c4:e0',\n",
              " '04:bd:88:83:f9:80',\n",
              " '04:bd:88:83:f9:90',\n",
              " '04:bd:88:84:1b:00',\n",
              " '04:bd:88:84:23:40',\n",
              " '04:bd:88:84:23:50',\n",
              " '04:bd:88:84:84:40',\n",
              " '04:bd:88:84:a5:40',\n",
              " '04:bd:88:84:ac:a0',\n",
              " '04:bd:88:84:ac:b0',\n",
              " '1a:3e:7e:32:f9:55',\n",
              " '24:de:c6:3d:2b:e0',\n",
              " '2a:56:5a:49:d8:2c',\n",
              " '32:cd:a7:3a:92:40',\n",
              " '40:31:3c:e7:c4:ef',\n",
              " '58:6d:8f:83:1b:7b',\n",
              " '5c:6a:80:0b:27:2e',\n",
              " '68:92:34:10:f3:28',\n",
              " '68:92:34:10:f3:98',\n",
              " '6a:5d:52:e8:4b:a3',\n",
              " '70:3a:0e:df:12:20',\n",
              " '70:3a:0e:df:16:40',\n",
              " '70:3a:0e:df:18:60',\n",
              " '70:3a:0e:df:18:70',\n",
              " '8e:18:d9:67:d2:55',\n",
              " '90:48:9a:e0:c9:1b',\n",
              " '9c:1c:12:30:af:20',\n",
              " '9c:1c:12:30:af:30',\n",
              " '9c:1c:12:31:b5:20',\n",
              " '9c:1c:12:31:b5:30',\n",
              " '9c:1c:12:33:b0:80',\n",
              " '9c:1c:12:33:b0:90',\n",
              " '9c:1c:12:33:c4:a0',\n",
              " '9c:1c:12:34:e3:e0',\n",
              " '9c:1c:12:35:0a:20',\n",
              " '9c:1c:12:35:44:00',\n",
              " '9c:1c:12:35:70:20',\n",
              " '9c:1c:12:35:70:21',\n",
              " '9c:1c:12:35:70:30',\n",
              " '9c:1c:12:35:70:31',\n",
              " '9c:1c:12:35:ab:c0',\n",
              " '9e:93:4e:3f:2c:be',\n",
              " 'a6:41:67:eb:cf:e0',\n",
              " 'aa:6b:ad:2e:3f:0b',\n",
              " 'aa:6b:ad:2e:42:90',\n",
              " 'ac:a3:1e:61:b0:80',\n",
              " 'ac:a3:1e:61:fe:00',\n",
              " 'ac:a3:1e:61:fe:10',\n",
              " 'ac:a3:1e:61:ff:00',\n",
              " 'ac:a3:1e:61:ff:10',\n",
              " 'ac:a3:1e:62:18:e0',\n",
              " 'ac:a3:1e:62:18:f0',\n",
              " 'ac:a3:1e:62:27:80',\n",
              " 'ac:a3:1e:62:27:90',\n",
              " 'ac:a3:1e:62:32:20',\n",
              " 'ac:a3:1e:62:32:30',\n",
              " 'ac:a3:1e:62:39:40',\n",
              " 'ac:a3:1e:62:53:00',\n",
              " 'ac:a3:1e:62:5c:c0',\n",
              " 'ac:a3:1e:62:5c:d0',\n",
              " 'ac:a3:1e:62:79:40',\n",
              " 'ac:a3:1e:62:79:50',\n",
              " 'b0:10:41:de:05:0e',\n",
              " 'f6:39:09:58:13:a9'}"
            ]
          },
          "metadata": {},
          "execution_count": 132
        }
      ]
    },
    {
      "cell_type": "code",
      "source": [
        "fieldnames = ['00:02:6f:af:6c:11',\n",
        " '00:30:4f:9c:79:18',\n",
        " '00:30:f1:fe:fa:7b',\n",
        " '02:17:c8:83:04:1a',\n",
        " '04:bd:88:80:69:20',\n",
        " '04:bd:88:83:b8:a0',\n",
        " '04:bd:88:83:b8:b0',\n",
        " '04:bd:88:83:c4:e0',\n",
        " '04:bd:88:83:f9:80',\n",
        " '04:bd:88:83:f9:90',\n",
        " '04:bd:88:84:1b:00',\n",
        " '04:bd:88:84:23:40',\n",
        " '04:bd:88:84:23:50',\n",
        " '04:bd:88:84:84:40',\n",
        " '04:bd:88:84:a5:40',\n",
        " '04:bd:88:84:ac:a0',\n",
        " '04:bd:88:84:ac:b0',\n",
        " '1a:3e:7e:32:f9:55',\n",
        " '24:de:c6:3d:2b:e0',\n",
        " '2a:56:5a:49:d8:2c',\n",
        " '32:cd:a7:3a:92:40',\n",
        " '40:31:3c:e7:c4:ef',\n",
        " '58:6d:8f:83:1b:7b',\n",
        " '5c:6a:80:0b:27:2e',\n",
        " '68:92:34:10:f3:28',\n",
        " '68:92:34:10:f3:98',\n",
        " '6a:5d:52:e8:4b:a3',\n",
        " '70:3a:0e:df:12:20',\n",
        " '70:3a:0e:df:16:40',\n",
        " '70:3a:0e:df:18:60',\n",
        " '70:3a:0e:df:18:70',\n",
        " '8e:18:d9:67:d2:55',\n",
        " '90:48:9a:e0:c9:1b',\n",
        " '9c:1c:12:30:af:20',\n",
        " '9c:1c:12:30:af:30',\n",
        " '9c:1c:12:31:b5:20',\n",
        " '9c:1c:12:31:b5:30',\n",
        " '9c:1c:12:33:b0:80',\n",
        " '9c:1c:12:33:b0:90',\n",
        " '9c:1c:12:33:c4:a0',\n",
        " '9c:1c:12:34:e3:e0',\n",
        " '9c:1c:12:35:0a:20',\n",
        " '9c:1c:12:35:44:00',\n",
        " '9c:1c:12:35:70:20',\n",
        " '9c:1c:12:35:70:21',\n",
        " '9c:1c:12:35:70:30',\n",
        " '9c:1c:12:35:70:31',\n",
        " '9c:1c:12:35:ab:c0',\n",
        " '9e:93:4e:3f:2c:be',\n",
        " 'a6:41:67:eb:cf:e0',\n",
        " 'aa:6b:ad:2e:3f:0b',\n",
        " 'aa:6b:ad:2e:42:90',\n",
        " 'ac:a3:1e:61:b0:80',\n",
        " 'ac:a3:1e:61:fe:00',\n",
        " 'ac:a3:1e:61:fe:10',\n",
        " 'ac:a3:1e:61:ff:00',\n",
        " 'ac:a3:1e:61:ff:10',\n",
        " 'ac:a3:1e:62:18:e0',\n",
        " 'ac:a3:1e:62:18:f0',\n",
        " 'ac:a3:1e:62:27:80',\n",
        " 'ac:a3:1e:62:27:90',\n",
        " 'ac:a3:1e:62:32:20',\n",
        " 'ac:a3:1e:62:32:30',\n",
        " 'ac:a3:1e:62:39:40',\n",
        " 'ac:a3:1e:62:53:00',\n",
        " 'ac:a3:1e:62:5c:c0',\n",
        " 'ac:a3:1e:62:5c:d0',\n",
        " 'ac:a3:1e:62:79:40',\n",
        " 'ac:a3:1e:62:79:50',\n",
        " 'b0:10:41:de:05:0e',\n",
        " 'f6:39:09:58:13:a9','Lat','Lon','Floor','Room','Building','PhoneModel','CreatedOn']"
      ],
      "metadata": {
        "id": "8OfUTXkIWrex"
      },
      "execution_count": null,
      "outputs": []
    },
    {
      "cell_type": "code",
      "source": [
        "data.collectedDataWithIndoorLevelPointModel[0][\"lat\"]"
      ],
      "metadata": {
        "colab": {
          "base_uri": "https://localhost:8080/"
        },
        "id": "DbOrS2SzRCvf",
        "outputId": "5b7c8376-ddc6-4f6b-c263-6ebb744bd3ec"
      },
      "execution_count": null,
      "outputs": [
        {
          "output_type": "execute_result",
          "data": {
            "text/plain": [
              "3689650479932726"
            ]
          },
          "metadata": {},
          "execution_count": 140
        }
      ]
    },
    {
      "cell_type": "code",
      "source": [
        "len(fieldnames)-7"
      ],
      "metadata": {
        "colab": {
          "base_uri": "https://localhost:8080/"
        },
        "id": "MNAeJZ1NY-GB",
        "outputId": "44de370f-0646-4fd6-dd8a-64aa7ba77fd5"
      },
      "execution_count": null,
      "outputs": [
        {
          "output_type": "execute_result",
          "data": {
            "text/plain": [
              "71"
            ]
          },
          "metadata": {},
          "execution_count": 148
        }
      ]
    },
    {
      "cell_type": "code",
      "source": [
        "fieldnames[0]"
      ],
      "metadata": {
        "colab": {
          "base_uri": "https://localhost:8080/",
          "height": 36
        },
        "id": "0tZ_-tfBZGsZ",
        "outputId": "adaa387d-ed38-42fa-acc4-463386664180"
      },
      "execution_count": null,
      "outputs": [
        {
          "output_type": "execute_result",
          "data": {
            "text/plain": [
              "'00:02:6f:af:6c:11'"
            ],
            "application/vnd.google.colaboratory.intrinsic+json": {
              "type": "string"
            }
          },
          "metadata": {},
          "execution_count": 149
        }
      ]
    },
    {
      "cell_type": "code",
      "source": [
        "with open(\"/content/drive/MyDrive/Colab Notebooks/DATA_JSON/data.csv\",mode=\"w\") as csvfile:\n",
        "    writer = csv.DictWriter(csvfile, fieldnames=fieldnames)\n",
        "    writer.writeheader()\n",
        "    for i in range(16):\n",
        "      writer.writerow({\"Lat\":data.collectedDataWithIndoorLevelPointModel[i][\"lat\"],\n",
        "                       \"Lon\":data.collectedDataWithIndoorLevelPointModel[i][\"lon\"],\n",
        "                       \"Floor\":data.collectedDataWithIndoorLevelPointModel[i][\"indoorLevel\"],\n",
        "                       \"Room\":data.collectedDataWithIndoorLevelPointModel[i][\"roomId\"],\n",
        "                       \"Building\":data.collectedDataWithIndoorLevelPointModel[i][\"buildingId\"]})\n",
        "      for j in range(len(data.collectedDataWithIndoorLevelDataModel[i][\"wifiMeasurementList\"])):\n",
        "        for k in range(len(fieldnames)-7):\n",
        "          if data.collectedDataWithIndoorLevelDataModel[i][\"wifiMeasurementList\"][j][\"ssid\"] == fieldnames[k]:\n",
        "            writer.writerow({fieldnames[k]:data.collectedDataWithIndoorLevelDataModel[i][\"wifiMeasurementList\"][j][\"wifiMeasurementRssi\"]})\n",
        "        "
      ],
      "metadata": {
        "id": "ubQ00JWyQtep"
      },
      "execution_count": null,
      "outputs": []
    },
    {
      "cell_type": "code",
      "source": [
        "# with open(\"/content/drive/MyDrive/Colab Notebooks/DATA_JSON/data.csv\",mode=\"w\") as csvfile:\n",
        "#     writer = csv.DictWriter(csvfile, fieldnames=fieldnames)\n",
        "#     writer.writeheader()\n",
        "#     for i in range(16):\n",
        "#       row = {\"Lat\":data.collectedDataWithIndoorLevelPointModel[i][\"lat\"],\n",
        "#              \"Lon\":data.collectedDataWithIndoorLevelPointModel[i][\"lon\"],\n",
        "#              \"Floor\":data.collectedDataWithIndoorLevelPointModel[i][\"indoorLevel\"],\n",
        "#              \"Building\":data.collectedDataWithIndoorLevelPointModel[i][\"buildingId\"],\n",
        "#              \"Room\":data.collectedDataWithIndoorLevelPointModel[i][\"roomId\"]}\n",
        "#       for j in range(len(data.collectedDataWithIndoorLevelDataModel[i][\"wifiMeasurementList\"])):\n",
        "#         if data.collectedDataWithIndoorLevelDataModel[i][\"wifiMeasurementList\"][j][\"ssid\"] == '00:02:6f:af:6c:11':\n",
        "#           row[\"00:02:6f:af:6c:11\"] = data.collectedDataWithIndoorLevelDataModel[i][\"wifiMeasurementList\"][j][\"wifiMeasurementRssi\"]\n",
        "#         if data.collectedDataWithIndoorLevelDataModel[i][\"wifiMeasurementList\"][j][\"ssid\"] == '00:30:4f:9c:79:18':\n",
        "#           row[\"00:30:4f:9c:79:18\"] = data.collectedDataWithIndoorLevelDataModel[i][\"wifiMeasurementList\"][j][\"wifiMeasurementRssi\"]\n",
        "#         if data.collectedDataWithIndoorLevelDataModel[i][\"wifiMeasurementList\"][j][\"ssid\"] == '00:30:f1:fe:fa:7b':\n",
        "#           row[\"00:30:f1:fe:fa:7b\"] = data.collectedDataWithIndoorLevelDataModel[i][\"wifiMeasurementList\"][j][\"wifiMeasurementRssi\"]\n",
        "#         if data.collectedDataWithIndoorLevelDataModel[i][\"wifiMeasurementList\"][j][\"ssid\"] == '02:17:c8:83:04:1a':\n",
        "#           row[\"02:17:c8:83:04:1a\"] = data.collectedDataWithIndoorLevelDataModel[i][\"wifiMeasurementList\"][j][\"wifiMeasurementRssi\"]\n",
        "#         if data.collectedDataWithIndoorLevelDataModel[i][\"wifiMeasurementList\"][j][\"ssid\"] == '04:bd:88:80:69:20':\n",
        "#           row[\"04:bd:88:80:69:20\"] = data.collectedDataWithIndoorLevelDataModel[i][\"wifiMeasurementList\"][j][\"wifiMeasurementRssi\"]\n",
        "#         if data.collectedDataWithIndoorLevelDataModel[i][\"wifiMeasurementList\"][j][\"ssid\"] == '04:bd:88:83:b8:a0':\n",
        "#           row[\"04:bd:88:83:b8:a0\"] = data.collectedDataWithIndoorLevelDataModel[i][\"wifiMeasurementList\"][j][\"wifiMeasurementRssi\"]\n",
        "#         if data.collectedDataWithIndoorLevelDataModel[i][\"wifiMeasurementList\"][j][\"ssid\"] == '04:bd:88:83:b8:b0':\n",
        "#           row[\"04:bd:88:83:b8:b0\"] = data.collectedDataWithIndoorLevelDataModel[i][\"wifiMeasurementList\"][j][\"wifiMeasurementRssi\"]\n",
        "#         if data.collectedDataWithIndoorLevelDataModel[i][\"wifiMeasurementList\"][j][\"ssid\"] == '04:bd:88:83:c4:e0':\n",
        "#           row[\"04:bd:88:83:c4:e0\"] = data.collectedDataWithIndoorLevelDataModel[i][\"wifiMeasurementList\"][j][\"wifiMeasurementRssi\"]\n",
        "#         if data.collectedDataWithIndoorLevelDataModel[i][\"wifiMeasurementList\"][j][\"ssid\"] == '04:bd:88:83:f9:80':\n",
        "#           row[\"04:bd:88:83:f9:80\"] = data.collectedDataWithIndoorLevelDataModel[i][\"wifiMeasurementList\"][j][\"wifiMeasurementRssi\"]\n",
        "#         if data.collectedDataWithIndoorLevelDataModel[i][\"wifiMeasurementList\"][j][\"ssid\"] == '04:bd:88:83:f9:90':\n",
        "#           row[\"04:bd:88:83:f9:90\"] = data.collectedDataWithIndoorLevelDataModel[i][\"wifiMeasurementList\"][j][\"wifiMeasurementRssi\"]\n",
        "#         if data.collectedDataWithIndoorLevelDataModel[i][\"wifiMeasurementList\"][j][\"ssid\"] == '04:bd:88:84:1b:00':\n",
        "#           row[\"04:bd:88:84:1b:00\"] = data.collectedDataWithIndoorLevelDataModel[i][\"wifiMeasurementList\"][j][\"wifiMeasurementRssi\"] \n",
        "#         if data.collectedDataWithIndoorLevelDataModel[i][\"wifiMeasurementList\"][j][\"ssid\"] == '04:bd:88:84:23:40':\n",
        "#           row[\"04:bd:88:84:23:40\"] = data.collectedDataWithIndoorLevelDataModel[i][\"wifiMeasurementList\"][j][\"wifiMeasurementRssi\"]\n",
        "#         if data.collectedDataWithIndoorLevelDataModel[i][\"wifiMeasurementList\"][j][\"ssid\"] == '04:bd:88:84:23:50':\n",
        "#           row[\"04:bd:88:84:23:50\"] = data.collectedDataWithIndoorLevelDataModel[i][\"wifiMeasurementList\"][j][\"wifiMeasurementRssi\"]\n",
        "#         if data.collectedDataWithIndoorLevelDataModel[i][\"wifiMeasurementList\"][j][\"ssid\"] == '04:bd:88:84:84:40':\n",
        "#           row[\"04:bd:88:84:84:40\"] = data.collectedDataWithIndoorLevelDataModel[i][\"wifiMeasurementList\"][j][\"wifiMeasurementRssi\"]\n",
        "#         if data.collectedDataWithIndoorLevelDataModel[i][\"wifiMeasurementList\"][j][\"ssid\"] == '04:bd:88:84:a5:40':\n",
        "#           row[\"04:bd:88:84:a5:40\"] = data.collectedDataWithIndoorLevelDataModel[i][\"wifiMeasurementList\"][j][\"wifiMeasurementRssi\"]\n",
        "#         if data.collectedDataWithIndoorLevelDataModel[i][\"wifiMeasurementList\"][j][\"ssid\"] == '04:bd:88:84:ac:a0':\n",
        "#           row[\"04:bd:88:84:ac:a0\"] = data.collectedDataWithIndoorLevelDataModel[i][\"wifiMeasurementList\"][j][\"wifiMeasurementRssi\"]\n",
        "#         if data.collectedDataWithIndoorLevelDataModel[i][\"wifiMeasurementList\"][j][\"ssid\"] == '04:bd:88:84:ac:b0':\n",
        "#           row[\"04:bd:88:84:ac:b0\"] = data.collectedDataWithIndoorLevelDataModel[i][\"wifiMeasurementList\"][j][\"wifiMeasurementRssi\"]\n",
        "#         if data.collectedDataWithIndoorLevelDataModel[i][\"wifiMeasurementList\"][j][\"ssid\"] == '1a:3e:7e:32:f9:55':\n",
        "#           row[\"1a:3e:7e:32:f9:55\"] = data.collectedDataWithIndoorLevelDataModel[i][\"wifiMeasurementList\"][j][\"wifiMeasurementRssi\"] \n",
        "#         if data.collectedDataWithIndoorLevelDataModel[i][\"wifiMeasurementList\"][j][\"ssid\"] == '24:de:c6:3d:2b:e0':\n",
        "#           row[\"24:de:c6:3d:2b:e0\"] = data.collectedDataWithIndoorLevelDataModel[i][\"wifiMeasurementList\"][j][\"wifiMeasurementRssi\"]\n",
        "#         if data.collectedDataWithIndoorLevelDataModel[i][\"wifiMeasurementList\"][j][\"ssid\"] == '2a:56:5a:49:d8:2c':\n",
        "#           row[\"2a:56:5a:49:d8:2c\"] = data.collectedDataWithIndoorLevelDataModel[i][\"wifiMeasurementList\"][j][\"wifiMeasurementRssi\"]\n",
        "#         if data.collectedDataWithIndoorLevelDataModel[i][\"wifiMeasurementList\"][j][\"ssid\"] == '32:cd:a7:3a:92:40':\n",
        "#           row[\"32:cd:a7:3a:92:40\"] = data.collectedDataWithIndoorLevelDataModel[i][\"wifiMeasurementList\"][j][\"wifiMeasurementRssi\"]\n",
        "#         if data.collectedDataWithIndoorLevelDataModel[i][\"wifiMeasurementList\"][j][\"ssid\"] == '40:31:3c:e7:c4:ef':\n",
        "#           row[\"40:31:3c:e7:c4:ef\"] = data.collectedDataWithIndoorLevelDataModel[i][\"wifiMeasurementList\"][j][\"wifiMeasurementRssi\"]\n",
        "#         if data.collectedDataWithIndoorLevelDataModel[i][\"wifiMeasurementList\"][j][\"ssid\"] == '58:6d:8f:83:1b:7b':\n",
        "#           row[\"58:6d:8f:83:1b:7b\"] = data.collectedDataWithIndoorLevelDataModel[i][\"wifiMeasurementList\"][j][\"wifiMeasurementRssi\"]\n",
        "#         if data.collectedDataWithIndoorLevelDataModel[i][\"wifiMeasurementList\"][j][\"ssid\"] == '5c:6a:80:0b:27:2e':\n",
        "#           row[\"5c:6a:80:0b:27:2e\"] = data.collectedDataWithIndoorLevelDataModel[i][\"wifiMeasurementList\"][j][\"wifiMeasurementRssi\"]\n",
        "#         if data.collectedDataWithIndoorLevelDataModel[i][\"wifiMeasurementList\"][j][\"ssid\"] == '68:92:34:10:f3:28':\n",
        "#           row[\"68:92:34:10:f3:28\"] = data.collectedDataWithIndoorLevelDataModel[i][\"wifiMeasurementList\"][j][\"wifiMeasurementRssi\"] \n",
        "#         if data.collectedDataWithIndoorLevelDataModel[i][\"wifiMeasurementList\"][j][\"ssid\"] == '68:92:34:10:f3:98':\n",
        "#           row[\"68:92:34:10:f3:98\"] = data.collectedDataWithIndoorLevelDataModel[i][\"wifiMeasurementList\"][j][\"wifiMeasurementRssi\"]\n",
        "#         if data.collectedDataWithIndoorLevelDataModel[i][\"wifiMeasurementList\"][j][\"ssid\"] == '6a:5d:52:e8:4b:a3':\n",
        "#           row[\"6a:5d:52:e8:4b:a3\"] = data.collectedDataWithIndoorLevelDataModel[i][\"wifiMeasurementList\"][j][\"wifiMeasurementRssi\"]\n",
        "#         if data.collectedDataWithIndoorLevelDataModel[i][\"wifiMeasurementList\"][j][\"ssid\"] == '70:3a:0e:df:12:20':\n",
        "#           row[\"70:3a:0e:df:12:20\"] = data.collectedDataWithIndoorLevelDataModel[i][\"wifiMeasurementList\"][j][\"wifiMeasurementRssi\"]\n",
        "#         if data.collectedDataWithIndoorLevelDataModel[i][\"wifiMeasurementList\"][j][\"ssid\"] == '70:3a:0e:df:16:40':\n",
        "#           row[\"70:3a:0e:df:16:40\"] = data.collectedDataWithIndoorLevelDataModel[i][\"wifiMeasurementList\"][j][\"wifiMeasurementRssi\"]\n",
        "#         if data.collectedDataWithIndoorLevelDataModel[i][\"wifiMeasurementList\"][j][\"ssid\"] == '70:3a:0e:df:18:60':\n",
        "#           row[\"70:3a:0e:df:18:60\"] = data.collectedDataWithIndoorLevelDataModel[i][\"wifiMeasurementList\"][j][\"wifiMeasurementRssi\"]\n",
        "#         if data.collectedDataWithIndoorLevelDataModel[i][\"wifiMeasurementList\"][j][\"ssid\"] == '70:3a:0e:df:18:70':\n",
        "#           row[\"70:3a:0e:df:18:70\"] = data.collectedDataWithIndoorLevelDataModel[i][\"wifiMeasurementList\"][j][\"wifiMeasurementRssi\"]\n",
        "#         if data.collectedDataWithIndoorLevelDataModel[i][\"wifiMeasurementList\"][j][\"ssid\"] == '8e:18:d9:67:d2:55':\n",
        "#           row[\"8e:18:d9:67:d2:55\"] = data.collectedDataWithIndoorLevelDataModel[i][\"wifiMeasurementList\"][j][\"wifiMeasurementRssi\"] \n",
        "#         if data.collectedDataWithIndoorLevelDataModel[i][\"wifiMeasurementList\"][j][\"ssid\"] == '90:48:9a:e0:c9:1b':\n",
        "#           row[\"90:48:9a:e0:c9:1b\"] = data.collectedDataWithIndoorLevelDataModel[i][\"wifiMeasurementList\"][j][\"wifiMeasurementRssi\"]\n",
        "#         if data.collectedDataWithIndoorLevelDataModel[i][\"wifiMeasurementList\"][j][\"ssid\"] == '9c:1c:12:30:af:20':\n",
        "#           row[\"9c:1c:12:30:af:20\"] = data.collectedDataWithIndoorLevelDataModel[i][\"wifiMeasurementList\"][j][\"wifiMeasurementRssi\"]\n",
        "#         if data.collectedDataWithIndoorLevelDataModel[i][\"wifiMeasurementList\"][j][\"ssid\"] == '9c:1c:12:30:af:30':\n",
        "#           row[\"9c:1c:12:30:af:30\"] = data.collectedDataWithIndoorLevelDataModel[i][\"wifiMeasurementList\"][j][\"wifiMeasurementRssi\"]\n",
        "#         if data.collectedDataWithIndoorLevelDataModel[i][\"wifiMeasurementList\"][j][\"ssid\"] == '9c:1c:12:31:b5:20':\n",
        "#           row[\"9c:1c:12:31:b5:20\"] = data.collectedDataWithIndoorLevelDataModel[i][\"wifiMeasurementList\"][j][\"wifiMeasurementRssi\"]\n",
        "#         if data.collectedDataWithIndoorLevelDataModel[i][\"wifiMeasurementList\"][j][\"ssid\"] == '9c:1c:12:31:b5:30':\n",
        "#           row[\"9c:1c:12:31:b5:30\"] = data.collectedDataWithIndoorLevelDataModel[i][\"wifiMeasurementList\"][j][\"wifiMeasurementRssi\"]\n",
        "#         if data.collectedDataWithIndoorLevelDataModel[i][\"wifiMeasurementList\"][j][\"ssid\"] == '9c:1c:12:33:b0:80':\n",
        "#           row[\"9c:1c:12:33:b0:80\"] = data.collectedDataWithIndoorLevelDataModel[i][\"wifiMeasurementList\"][j][\"wifiMeasurementRssi\"]\n",
        "#         if data.collectedDataWithIndoorLevelDataModel[i][\"wifiMeasurementList\"][j][\"ssid\"] == '9c:1c:12:33:b0:90':\n",
        "#           row[\"9c:1c:12:33:b0:90\"] = data.collectedDataWithIndoorLevelDataModel[i][\"wifiMeasurementList\"][j][\"wifiMeasurementRssi\"] \n",
        "#         if data.collectedDataWithIndoorLevelDataModel[i][\"wifiMeasurementList\"][j][\"ssid\"] == '9c:1c:12:33:c4:a0':\n",
        "#           row[\"9c:1c:12:33:c4:a0\"] = data.collectedDataWithIndoorLevelDataModel[i][\"wifiMeasurementList\"][j][\"wifiMeasurementRssi\"]\n",
        "#         if data.collectedDataWithIndoorLevelDataModel[i][\"wifiMeasurementList\"][j][\"ssid\"] == '9c:1c:12:34:e3:e0':\n",
        "#           row[\"9c:1c:12:34:e3:e0\"] = data.collectedDataWithIndoorLevelDataModel[i][\"wifiMeasurementList\"][j][\"wifiMeasurementRssi\"]\n",
        "#         if data.collectedDataWithIndoorLevelDataModel[i][\"wifiMeasurementList\"][j][\"ssid\"] == '9c:1c:12:35:0a:20':\n",
        "#           row[\"9c:1c:12:35:0a:20\"] = data.collectedDataWithIndoorLevelDataModel[i][\"wifiMeasurementList\"][j][\"wifiMeasurementRssi\"]\n",
        "#         if data.collectedDataWithIndoorLevelDataModel[i][\"wifiMeasurementList\"][j][\"ssid\"] == '9c:1c:12:35:44:00':\n",
        "#           row[\"9c:1c:12:35:44:00\"] = data.collectedDataWithIndoorLevelDataModel[i][\"wifiMeasurementList\"][j][\"wifiMeasurementRssi\"]\n",
        "#         if data.collectedDataWithIndoorLevelDataModel[i][\"wifiMeasurementList\"][j][\"ssid\"] == '9c:1c:12:35:70:20':\n",
        "#           row[\"9c:1c:12:35:70:20\"] = data.collectedDataWithIndoorLevelDataModel[i][\"wifiMeasurementList\"][j][\"wifiMeasurementRssi\"]\n",
        "#         if data.collectedDataWithIndoorLevelDataModel[i][\"wifiMeasurementList\"][j][\"ssid\"] == '9c:1c:12:35:70:21':\n",
        "#           row[\"9c:1c:12:35:70:21\"] = data.collectedDataWithIndoorLevelDataModel[i][\"wifiMeasurementList\"][j][\"wifiMeasurementRssi\"]\n",
        "#         if data.collectedDataWithIndoorLevelDataModel[i][\"wifiMeasurementList\"][j][\"ssid\"] == '9c:1c:12:35:70:30':\n",
        "#           row[\"9c:1c:12:35:70:30\"] = data.collectedDataWithIndoorLevelDataModel[i][\"wifiMeasurementList\"][j][\"wifiMeasurementRssi\"] \n",
        "#         if data.collectedDataWithIndoorLevelDataModel[i][\"wifiMeasurementList\"][j][\"ssid\"] == '9c:1c:12:35:70:31':\n",
        "#           row[\"9c:1c:12:35:70:31\"] = data.collectedDataWithIndoorLevelDataModel[i][\"wifiMeasurementList\"][j][\"wifiMeasurementRssi\"]\n",
        "#         if data.collectedDataWithIndoorLevelDataModel[i][\"wifiMeasurementList\"][j][\"ssid\"] == '9c:1c:12:35:ab:c0':\n",
        "#           row[\"9c:1c:12:35:ab:c0\"] = data.collectedDataWithIndoorLevelDataModel[i][\"wifiMeasurementList\"][j][\"wifiMeasurementRssi\"]\n",
        "#         if data.collectedDataWithIndoorLevelDataModel[i][\"wifiMeasurementList\"][j][\"ssid\"] == '9e:93:4e:3f:2c:be':\n",
        "#           row[\"9e:93:4e:3f:2c:be\"] = data.collectedDataWithIndoorLevelDataModel[i][\"wifiMeasurementList\"][j][\"wifiMeasurementRssi\"]\n",
        "#         if data.collectedDataWithIndoorLevelDataModel[i][\"wifiMeasurementList\"][j][\"ssid\"] == 'a6:41:67:eb:cf:e0':\n",
        "#           row[\"a6:41:67:eb:cf:e0\"] = data.collectedDataWithIndoorLevelDataModel[i][\"wifiMeasurementList\"][j][\"wifiMeasurementRssi\"]\n",
        "#         if data.collectedDataWithIndoorLevelDataModel[i][\"wifiMeasurementList\"][j][\"ssid\"] == 'aa:6b:ad:2e:3f:0b':\n",
        "#           row[\"aa:6b:ad:2e:3f:0b\"] = data.collectedDataWithIndoorLevelDataModel[i][\"wifiMeasurementList\"][j][\"wifiMeasurementRssi\"]\n",
        "#         if data.collectedDataWithIndoorLevelDataModel[i][\"wifiMeasurementList\"][j][\"ssid\"] == 'aa:6b:ad:2e:42:90':\n",
        "#           row[\"aa:6b:ad:2e:42:90\"] = data.collectedDataWithIndoorLevelDataModel[i][\"wifiMeasurementList\"][j][\"wifiMeasurementRssi\"]\n",
        "#         if data.collectedDataWithIndoorLevelDataModel[i][\"wifiMeasurementList\"][j][\"ssid\"] == 'ac:a3:1e:61:b0:80':\n",
        "#           row[\"ac:a3:1e:61:b0:80\"] = data.collectedDataWithIndoorLevelDataModel[i][\"wifiMeasurementList\"][j][\"wifiMeasurementRssi\"] \n",
        "#         if data.collectedDataWithIndoorLevelDataModel[i][\"wifiMeasurementList\"][j][\"ssid\"] == 'ac:a3:1e:61:fe:00':\n",
        "#           row[\"ac:a3:1e:61:fe:00\"] = data.collectedDataWithIndoorLevelDataModel[i][\"wifiMeasurementList\"][j][\"wifiMeasurementRssi\"]\n",
        "#         if data.collectedDataWithIndoorLevelDataModel[i][\"wifiMeasurementList\"][j][\"ssid\"] == 'ac:a3:1e:61:fe:10':\n",
        "#           row[\"ac:a3:1e:61:fe:10\"] = data.collectedDataWithIndoorLevelDataModel[i][\"wifiMeasurementList\"][j][\"wifiMeasurementRssi\"]\n",
        "#         if data.collectedDataWithIndoorLevelDataModel[i][\"wifiMeasurementList\"][j][\"ssid\"] == 'ac:a3:1e:61:ff:00':\n",
        "#           row[\"ac:a3:1e:61:ff:00\"] = data.collectedDataWithIndoorLevelDataModel[i][\"wifiMeasurementList\"][j][\"wifiMeasurementRssi\"]\n",
        "#         if data.collectedDataWithIndoorLevelDataModel[i][\"wifiMeasurementList\"][j][\"ssid\"] == 'ac:a3:1e:61:ff:10':\n",
        "#           row[\"ac:a3:1e:61:ff:10\"] = data.collectedDataWithIndoorLevelDataModel[i][\"wifiMeasurementList\"][j][\"wifiMeasurementRssi\"]\n",
        "#         if data.collectedDataWithIndoorLevelDataModel[i][\"wifiMeasurementList\"][j][\"ssid\"] == 'ac:a3:1e:62:18:e0':\n",
        "#           row[\"ac:a3:1e:62:18:e0\"] = data.collectedDataWithIndoorLevelDataModel[i][\"wifiMeasurementList\"][j][\"wifiMeasurementRssi\"]\n",
        "#         if data.collectedDataWithIndoorLevelDataModel[i][\"wifiMeasurementList\"][j][\"ssid\"] == 'ac:a3:1e:62:18:f0':\n",
        "#           row[\"ac:a3:1e:62:18:f0\"] = data.collectedDataWithIndoorLevelDataModel[i][\"wifiMeasurementList\"][j][\"wifiMeasurementRssi\"]\n",
        "#         if data.collectedDataWithIndoorLevelDataModel[i][\"wifiMeasurementList\"][j][\"ssid\"] == 'ac:a3:1e:62:27:80':\n",
        "#           row[\"ac:a3:1e:62:27:80\"] = data.collectedDataWithIndoorLevelDataModel[i][\"wifiMeasurementList\"][j][\"wifiMeasurementRssi\"]\n",
        "#         if data.collectedDataWithIndoorLevelDataModel[i][\"wifiMeasurementList\"][j][\"ssid\"] == 'ac:a3:1e:62:27:90':\n",
        "#           row[\"ac:a3:1e:62:27:90\"] = data.collectedDataWithIndoorLevelDataModel[i][\"wifiMeasurementList\"][j][\"wifiMeasurementRssi\"]\n",
        "#         if data.collectedDataWithIndoorLevelDataModel[i][\"wifiMeasurementList\"][j][\"ssid\"] == 'ac:a3:1e:62:32:20':\n",
        "#           row[\"ac:a3:1e:62:32:20\"] = data.collectedDataWithIndoorLevelDataModel[i][\"wifiMeasurementList\"][j][\"wifiMeasurementRssi\"]\n",
        "#         if data.collectedDataWithIndoorLevelDataModel[i][\"wifiMeasurementList\"][j][\"ssid\"] == 'ac:a3:1e:62:32:30':\n",
        "#           row[\"ac:a3:1e:62:32:30\"] = data.collectedDataWithIndoorLevelDataModel[i][\"wifiMeasurementList\"][j][\"wifiMeasurementRssi\"] \n",
        "#         if data.collectedDataWithIndoorLevelDataModel[i][\"wifiMeasurementList\"][j][\"ssid\"] == 'ac:a3:1e:62:39:40':\n",
        "#           row[\"ac:a3:1e:62:39:40\"] = data.collectedDataWithIndoorLevelDataModel[i][\"wifiMeasurementList\"][j][\"wifiMeasurementRssi\"]\n",
        "#         if data.collectedDataWithIndoorLevelDataModel[i][\"wifiMeasurementList\"][j][\"ssid\"] == 'ac:a3:1e:62:53:00':\n",
        "#           row[\"ac:a3:1e:62:53:00\"] = data.collectedDataWithIndoorLevelDataModel[i][\"wifiMeasurementList\"][j][\"wifiMeasurementRssi\"]\n",
        "#         if data.collectedDataWithIndoorLevelDataModel[i][\"wifiMeasurementList\"][j][\"ssid\"] == 'ac:a3:1e:62:5c:c0':\n",
        "#           row[\"ac:a3:1e:62:5c:c0\"] = data.collectedDataWithIndoorLevelDataModel[i][\"wifiMeasurementList\"][j][\"wifiMeasurementRssi\"]\n",
        "#         if data.collectedDataWithIndoorLevelDataModel[i][\"wifiMeasurementList\"][j][\"ssid\"] == 'ac:a3:1e:62:5c:d0':\n",
        "#           row[\"ac:a3:1e:62:5c:d0\"] = data.collectedDataWithIndoorLevelDataModel[i][\"wifiMeasurementList\"][j][\"wifiMeasurementRssi\"]\n",
        "#         if data.collectedDataWithIndoorLevelDataModel[i][\"wifiMeasurementList\"][j][\"ssid\"] == 'ac:a3:1e:62:79:50':\n",
        "#           row[\"ac:a3:1e:62:79:50\"] = data.collectedDataWithIndoorLevelDataModel[i][\"wifiMeasurementList\"][j][\"wifiMeasurementRssi\"] \n",
        "#         if data.collectedDataWithIndoorLevelDataModel[i][\"wifiMeasurementList\"][j][\"ssid\"] == 'b0:10:41:de:05:0e':\n",
        "#           row[\"b0:10:41:de:05:0e\"] = data.collectedDataWithIndoorLevelDataModel[i][\"wifiMeasurementList\"][j][\"wifiMeasurementRssi\"]\n",
        "#         if data.collectedDataWithIndoorLevelDataModel[i][\"wifiMeasurementList\"][j][\"ssid\"] == 'f6:39:09:58:13:a9':\n",
        "#           row[\"f6:39:09:58:13:a9\"] = data.collectedDataWithIndoorLevelDataModel[i][\"wifiMeasurementList\"][j][\"wifiMeasurementRssi\"]\n",
        "        \n",
        "#       writer.writerow(row)\n",
        "     "
      ],
      "metadata": {
        "id": "Y77jCmgFYaY7"
      },
      "execution_count": null,
      "outputs": []
    },
    {
      "cell_type": "code",
      "source": [],
      "metadata": {
        "id": "CLhCiBH8LJLr"
      },
      "execution_count": null,
      "outputs": []
    }
  ]
}